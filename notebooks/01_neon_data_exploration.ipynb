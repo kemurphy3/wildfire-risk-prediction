{
 "cells": [
  {
   "cell_type": "markdown",
   "metadata": {},
   "source": [
    "# NEON Data Exploration for Wildfire Risk\n",
    "\n",
    "This notebook demonstrates how to access and explore NEON ecological data for wildfire risk assessment.\n",
    "\n",
    "## Learning Objectives\n",
    "- Understand NEON data structure and access patterns\n",
    "- Identify key ecological indicators for fire risk\n",
    "- Visualize spatial and temporal patterns in the data"
   ]
  },
  {
   "cell_type": "code",
   "execution_count": null,
   "metadata": {},
   "outputs": [],
   "source": [
    "# Import required libraries\n",
    "import sys\n",
    "sys.path.append('..')\n",
    "\n",
    "import pandas as pd\n",
    "import numpy as np\n",
    "import matplotlib.pyplot as plt\n",
    "import seaborn as sns\n",
    "from datetime import datetime, timedelta\n",
    "\n",
    "from src.data_collection import NEONDataCollector\n",
    "\n",
    "# Set up plotting style\n",
    "plt.style.use('seaborn-v0_8-darkgrid')\n",
    "sns.set_palette('husl')"
   ]
  },
  {
   "cell_type": "markdown",
   "metadata": {},
   "source": [
    "## 1. Initialize NEON Data Collector"
   ]
  },
  {
   "cell_type": "code",
   "execution_count": null,
   "metadata": {},
   "outputs": [],
   "source": [
    "# Initialize the NEON data collector\n",
    "collector = NEONDataCollector()\n",
    "\n",
    "# Get information about fire-prone sites\n",
    "fire_sites = collector.get_sites_info(site_codes=collector.FIRE_PRONE_SITES)\n",
    "print(f\"Retrieved information for {len(fire_sites)} fire-prone sites\")\n",
    "fire_sites[['siteCode', 'siteName', 'stateCode', 'siteLatitude', 'siteLongitude']].head()"
   ]
  },
  {
   "cell_type": "markdown",
   "metadata": {},
   "source": [
    "## 2. Understanding Fire-Relevant Data Products"
   ]
  },
  {
   "cell_type": "code",
   "execution_count": null,
   "metadata": {},
   "outputs": [],
   "source": [
    "# Display available fire-relevant data products\n",
    "products_df = pd.DataFrame(\n",
    "    [(code, desc) for code, desc in collector.FIRE_RELEVANT_PRODUCTS.items()],\n",
    "    columns=['Product Code', 'Description']\n",
    ")\n",
    "products_df"
   ]
  },
  {
   "cell_type": "markdown",
   "metadata": {},
   "source": [
    "## 3. Download Sample Data\n",
    "\n",
    "Let's download soil temperature and moisture data for a California site during fire season."
   ]
  },
  {
   "cell_type": "code",
   "execution_count": null,
   "metadata": {},
   "outputs": [],
   "source": [
    "# Download data for San Joaquin Experimental Range\n",
    "# Note: This is a demonstration - actual API calls require valid credentials\n",
    "sample_data = {\n",
    "    'DP1.00041.001': pd.DataFrame({\n",
    "        'startDateTime': pd.date_range('2023-07-01', '2023-07-31', freq='30min'),\n",
    "        'soilTemp': np.random.normal(25, 5, 1488),  # Simulated soil temperature\n",
    "        'siteCode': 'SJER'\n",
    "    }),\n",
    "    'DP1.00094.001': pd.DataFrame({\n",
    "        'startDateTime': pd.date_range('2023-07-01', '2023-07-31', freq='30min'),\n",
    "        'soilMoisture': np.random.normal(0.15, 0.05, 1488),  # Simulated soil moisture\n",
    "        'siteCode': 'SJER'\n",
    "    })\n",
    "}\n",
    "\n",
    "print(\"Sample data structure:\")\n",
    "for product, df in sample_data.items():\n",
    "    print(f\"\\n{product}: {len(df)} records\")\n",
    "    print(df.head())"
   ]
  },
  {
   "cell_type": "markdown",
   "metadata": {},
   "source": [
    "## 4. Analyze Temporal Patterns"
   ]
  },
  {
   "cell_type": "code",
   "execution_count": null,
   "metadata": {},
   "outputs": [],
   "source": [
    "# Merge soil temperature and moisture data\n",
    "merged_data = pd.merge(\n",
    "    sample_data['DP1.00041.001'],\n",
    "    sample_data['DP1.00094.001'][['startDateTime', 'soilMoisture']],\n",
    "    on='startDateTime'\n",
    ")\n",
    "\n",
    "# Create fire risk indicator (simplified)\n",
    "# High temperature + Low moisture = Higher risk\n",
    "merged_data['fireRiskIndex'] = (\n",
    "    (merged_data['soilTemp'] - merged_data['soilTemp'].mean()) / merged_data['soilTemp'].std() -\n",
    "    (merged_data['soilMoisture'] - merged_data['soilMoisture'].mean()) / merged_data['soilMoisture'].std()\n",
    ")\n",
    "\n",
    "# Plot temporal patterns\n",
    "fig, axes = plt.subplots(3, 1, figsize=(12, 10), sharex=True)\n",
    "\n",
    "# Soil temperature\n",
    "axes[0].plot(merged_data['startDateTime'], merged_data['soilTemp'], alpha=0.7)\n",
    "axes[0].set_ylabel('Soil Temperature (°C)')\n",
    "axes[0].set_title('Temporal Patterns in Fire Risk Indicators - SJER July 2023')\n",
    "\n",
    "# Soil moisture\n",
    "axes[1].plot(merged_data['startDateTime'], merged_data['soilMoisture'], alpha=0.7, color='green')\n",
    "axes[1].set_ylabel('Soil Moisture (m³/m³)')\n",
    "\n",
    "# Fire risk index\n",
    "axes[2].plot(merged_data['startDateTime'], merged_data['fireRiskIndex'], alpha=0.7, color='red')\n",
    "axes[2].axhline(y=0, color='black', linestyle='--', alpha=0.5)\n",
    "axes[2].set_ylabel('Fire Risk Index')\n",
    "axes[2].set_xlabel('Date')\n",
    "\n",
    "plt.tight_layout()\n",
    "plt.show()"
   ]
  },
  {
   "cell_type": "markdown",
   "metadata": {},
   "source": [
    "## 5. Daily Patterns and Risk Assessment"
   ]
  },
  {
   "cell_type": "code",
   "execution_count": null,
   "metadata": {},
   "outputs": [],
   "source": [
    "# Extract hour of day for pattern analysis\n",
    "merged_data['hour'] = merged_data['startDateTime'].dt.hour\n",
    "merged_data['day'] = merged_data['startDateTime'].dt.day\n",
    "\n",
    "# Calculate daily statistics\n",
    "daily_stats = merged_data.groupby('day').agg({\n",
    "    'soilTemp': ['mean', 'max', 'min'],\n",
    "    'soilMoisture': ['mean', 'min'],\n",
    "    'fireRiskIndex': ['mean', 'max']\n",
    "}).round(2)\n",
    "\n",
    "print(\"Daily Fire Risk Statistics:\")\n",
    "print(daily_stats.head(10))\n",
    "\n",
    "# Identify high-risk days\n",
    "high_risk_threshold = merged_data['fireRiskIndex'].quantile(0.75)\n",
    "high_risk_days = daily_stats[daily_stats[('fireRiskIndex', 'max')] > high_risk_threshold]\n",
    "print(f\"\\nDays with elevated fire risk (top 25%): {len(high_risk_days)}\")"
   ]
  },
  {
   "cell_type": "markdown",
   "metadata": {},
   "source": [
    "## 6. Diurnal Patterns"
   ]
  },
  {
   "cell_type": "code",
   "execution_count": null,
   "metadata": {},
   "outputs": [],
   "source": [
    "# Analyze diurnal (daily) patterns\n",
    "hourly_avg = merged_data.groupby('hour').agg({\n",
    "    'soilTemp': 'mean',\n",
    "    'soilMoisture': 'mean',\n",
    "    'fireRiskIndex': 'mean'\n",
    "})\n",
    "\n",
    "fig, ax1 = plt.subplots(figsize=(10, 6))\n",
    "\n",
    "# Temperature on primary axis\n",
    "color = 'tab:red'\n",
    "ax1.set_xlabel('Hour of Day')\n",
    "ax1.set_ylabel('Soil Temperature (°C)', color=color)\n",
    "ax1.plot(hourly_avg.index, hourly_avg['soilTemp'], color=color, linewidth=2)\n",
    "ax1.tick_params(axis='y', labelcolor=color)\n",
    "\n",
    "# Moisture on secondary axis\n",
    "ax2 = ax1.twinx()\n",
    "color = 'tab:blue'\n",
    "ax2.set_ylabel('Soil Moisture (m³/m³)', color=color)\n",
    "ax2.plot(hourly_avg.index, hourly_avg['soilMoisture'], color=color, linewidth=2)\n",
    "ax2.tick_params(axis='y', labelcolor=color)\n",
    "\n",
    "# Add fire risk as background\n",
    "ax3 = ax1.twinx()\n",
    "ax3.spines['right'].set_position(('outward', 60))\n",
    "ax3.fill_between(hourly_avg.index, hourly_avg['fireRiskIndex'], alpha=0.2, color='orange')\n",
    "ax3.set_ylabel('Fire Risk Index', color='orange')\n",
    "ax3.tick_params(axis='y', labelcolor='orange')\n",
    "\n",
    "plt.title('Diurnal Patterns in Fire Risk Indicators')\n",
    "fig.tight_layout()\n",
    "plt.show()"
   ]
  },
  {
   "cell_type": "markdown",
   "metadata": {},
   "source": [
    "## Key Insights\n",
    "\n",
    "This exploration demonstrates several important concepts:\n",
    "\n",
    "1. **Data Integration**: NEON provides multiple data streams that can be combined for comprehensive analysis\n",
    "2. **Temporal Resolution**: High-frequency measurements (30-minute intervals) capture diurnal patterns\n",
    "3. **Risk Indicators**: Simple combinations of temperature and moisture can indicate fire risk\n",
    "4. **Spatial Coverage**: Multiple sites allow for regional analysis\n",
    "\n",
    "## Next Steps\n",
    "\n",
    "- Integrate satellite imagery for spatial coverage\n",
    "- Add weather data for atmospheric conditions\n",
    "- Develop more sophisticated risk models\n",
    "- Validate against historical fire data"
   ]
  }
 ],
 "metadata": {
  "kernelspec": {
   "display_name": "Python 3",
   "language": "python",
   "name": "python3"
  },
  "language_info": {
   "codemirror_mode": {
    "name": "ipython",
    "version": 3
   },
   "file_extension": ".py",
   "mimetype": "text/x-python",
   "name": "python",
   "nbconvert_exporter": "python",
   "pygments_lexer": "ipython3",
   "version": "3.8.0"
  }
 },
 "nbformat": 4,
 "nbformat_minor": 4
}